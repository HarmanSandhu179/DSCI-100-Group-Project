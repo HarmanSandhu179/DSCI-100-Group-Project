{
 "cells": [
  {
   "cell_type": "markdown",
   "id": "41521ae8-f2d6-4176-945b-f209f18ecaa5",
   "metadata": {},
   "source": [
    "# DSCI 100 Group Project Report\n",
    "\n",
    "## Predicting Prize Money for Male Tennis Players"
   ]
  },
  {
   "cell_type": "code",
   "execution_count": null,
   "id": "28fa9275-5311-4f8a-b4d3-0c3bdd3c3330",
   "metadata": {},
   "outputs": [],
   "source": []
  }
 ],
 "metadata": {
  "kernelspec": {
   "display_name": "R",
   "language": "R",
   "name": "ir"
  },
  "language_info": {
   "codemirror_mode": "r",
   "file_extension": ".r",
   "mimetype": "text/x-r-source",
   "name": "R",
   "pygments_lexer": "r",
   "version": "4.1.3"
  }
 },
 "nbformat": 4,
 "nbformat_minor": 5
}
