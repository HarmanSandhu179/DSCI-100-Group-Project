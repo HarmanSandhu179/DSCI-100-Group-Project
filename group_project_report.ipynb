{
 "cells": [
  {
   "cell_type": "markdown",
   "id": "41521ae8-f2d6-4176-945b-f209f18ecaa5",
   "metadata": {
    "tags": []
   },
   "source": [
    "# DSCI 100 Group Project Report\n",
    "\n",
    "## Predicting Prize Money for Male Tennis Players"
   ]
  },
  {
   "cell_type": "code",
   "execution_count": 12,
   "id": "28fa9275-5311-4f8a-b4d3-0c3bdd3c3330",
   "metadata": {},
   "outputs": [],
   "source": [
    "library(tidyverse)\n",
    "library(tidymodels)\n",
    "library(readr)\n",
    "options(repr.matrix.max.rows = 6)"
   ]
  },
  {
   "cell_type": "code",
   "execution_count": 22,
   "id": "0ce351c0-a9cf-4dd8-b66f-9bda4a7e9eed",
   "metadata": {},
   "outputs": [
    {
     "name": "stderr",
     "output_type": "stream",
     "text": [
      "\u001b[1m\u001b[22mNew names:\n",
      "\u001b[36m•\u001b[39m `` -> `...1`\n",
      "\u001b[1mRows: \u001b[22m\u001b[34m500\u001b[39m \u001b[1mColumns: \u001b[22m\u001b[34m38\u001b[39m\n",
      "\u001b[36m──\u001b[39m \u001b[1mColumn specification\u001b[22m \u001b[36m────────────────────────────────────────────────────────\u001b[39m\n",
      "\u001b[1mDelimiter:\u001b[22m \",\"\n",
      "\u001b[31mchr\u001b[39m (25): Age, Country, Plays, Wikipedia, Current Rank, Best Rank, Name, Bac...\n",
      "\u001b[32mdbl\u001b[39m (13): ...1, Turned Pro, Seasons, Titles, Best Season, Retired, Masters, ...\n",
      "\n",
      "\u001b[36mℹ\u001b[39m Use `spec()` to retrieve the full column specification for this data.\n",
      "\u001b[36mℹ\u001b[39m Specify the column types or set `show_col_types = FALSE` to quiet this message.\n"
     ]
    },
    {
     "data": {
      "text/html": [
       "<table class=\"dataframe\">\n",
       "<caption>A tibble: 500 × 9</caption>\n",
       "<thead>\n",
       "\t<tr><th scope=col>Age</th><th scope=col>Current_Rank</th><th scope=col>Best_Rank</th><th scope=col>Seasons</th><th scope=col>Titles</th><th scope=col>Weeks_at_No._1</th><th scope=col>Current_Elo_Rank</th><th scope=col>Best_Elo_Rank</th><th scope=col>Prize_Money</th></tr>\n",
       "\t<tr><th scope=col>&lt;chr&gt;</th><th scope=col>&lt;chr&gt;</th><th scope=col>&lt;chr&gt;</th><th scope=col>&lt;dbl&gt;</th><th scope=col>&lt;dbl&gt;</th><th scope=col>&lt;dbl&gt;</th><th scope=col>&lt;chr&gt;</th><th scope=col>&lt;chr&gt;</th><th scope=col>&lt;chr&gt;</th></tr>\n",
       "</thead>\n",
       "<tbody>\n",
       "\t<tr><td>26 (25-04-1993)</td><td>378 (97) </td><td>363 (04-11-2019)</td><td>NA</td><td>NA</td><td>NA</td><td>NA        </td><td>NA             </td><td>NA          </td></tr>\n",
       "\t<tr><td>18 (22-12-2001)</td><td>326 (119)</td><td>316 (14-10-2019)</td><td>NA</td><td>NA</td><td>NA</td><td>NA        </td><td>NA             </td><td>$59,040     </td></tr>\n",
       "\t<tr><td>32 (03-11-1987)</td><td>178 (280)</td><td>44 (14-01-2013) </td><td>14</td><td>NA</td><td>NA</td><td>144 (1764)</td><td>60 (06-02-2012)</td><td>US$3,261,567</td></tr>\n",
       "\t<tr><td>⋮</td><td>⋮</td><td>⋮</td><td>⋮</td><td>⋮</td><td>⋮</td><td>⋮</td><td>⋮</td><td>⋮</td></tr>\n",
       "\t<tr><td>23 (14-03-1996)</td><td>495 (60)</td><td>342 (05-08-2019)</td><td>NA</td><td>NA</td><td>NA</td><td>NA</td><td>NA</td><td>NA     </td></tr>\n",
       "\t<tr><td>24 (17-05-1995)</td><td>419 (81)</td><td>419 (20-01-2020)</td><td>NA</td><td>NA</td><td>NA</td><td>NA</td><td>NA</td><td>NA     </td></tr>\n",
       "\t<tr><td>22 (26-03-1997)</td><td>451 (69)</td><td>408 (24-12-2018)</td><td> 2</td><td>NA</td><td>NA</td><td>NA</td><td>NA</td><td>$61,984</td></tr>\n",
       "</tbody>\n",
       "</table>\n"
      ],
      "text/latex": [
       "A tibble: 500 × 9\n",
       "\\begin{tabular}{lllllllll}\n",
       " Age & Current\\_Rank & Best\\_Rank & Seasons & Titles & Weeks\\_at\\_No.\\_1 & Current\\_Elo\\_Rank & Best\\_Elo\\_Rank & Prize\\_Money\\\\\n",
       " <chr> & <chr> & <chr> & <dbl> & <dbl> & <dbl> & <chr> & <chr> & <chr>\\\\\n",
       "\\hline\n",
       "\t 26 (25-04-1993) & 378 (97)  & 363 (04-11-2019) & NA & NA & NA & NA         & NA              & NA          \\\\\n",
       "\t 18 (22-12-2001) & 326 (119) & 316 (14-10-2019) & NA & NA & NA & NA         & NA              & \\$59,040     \\\\\n",
       "\t 32 (03-11-1987) & 178 (280) & 44 (14-01-2013)  & 14 & NA & NA & 144 (1764) & 60 (06-02-2012) & US\\$3,261,567\\\\\n",
       "\t ⋮ & ⋮ & ⋮ & ⋮ & ⋮ & ⋮ & ⋮ & ⋮ & ⋮\\\\\n",
       "\t 23 (14-03-1996) & 495 (60) & 342 (05-08-2019) & NA & NA & NA & NA & NA & NA     \\\\\n",
       "\t 24 (17-05-1995) & 419 (81) & 419 (20-01-2020) & NA & NA & NA & NA & NA & NA     \\\\\n",
       "\t 22 (26-03-1997) & 451 (69) & 408 (24-12-2018) &  2 & NA & NA & NA & NA & \\$61,984\\\\\n",
       "\\end{tabular}\n"
      ],
      "text/markdown": [
       "\n",
       "A tibble: 500 × 9\n",
       "\n",
       "| Age &lt;chr&gt; | Current_Rank &lt;chr&gt; | Best_Rank &lt;chr&gt; | Seasons &lt;dbl&gt; | Titles &lt;dbl&gt; | Weeks_at_No._1 &lt;dbl&gt; | Current_Elo_Rank &lt;chr&gt; | Best_Elo_Rank &lt;chr&gt; | Prize_Money &lt;chr&gt; |\n",
       "|---|---|---|---|---|---|---|---|---|\n",
       "| 26 (25-04-1993) | 378 (97)  | 363 (04-11-2019) | NA | NA | NA | NA         | NA              | NA           |\n",
       "| 18 (22-12-2001) | 326 (119) | 316 (14-10-2019) | NA | NA | NA | NA         | NA              | $59,040      |\n",
       "| 32 (03-11-1987) | 178 (280) | 44 (14-01-2013)  | 14 | NA | NA | 144 (1764) | 60 (06-02-2012) | US$3,261,567 |\n",
       "| ⋮ | ⋮ | ⋮ | ⋮ | ⋮ | ⋮ | ⋮ | ⋮ | ⋮ |\n",
       "| 23 (14-03-1996) | 495 (60) | 342 (05-08-2019) | NA | NA | NA | NA | NA | NA      |\n",
       "| 24 (17-05-1995) | 419 (81) | 419 (20-01-2020) | NA | NA | NA | NA | NA | NA      |\n",
       "| 22 (26-03-1997) | 451 (69) | 408 (24-12-2018) |  2 | NA | NA | NA | NA | $61,984 |\n",
       "\n"
      ],
      "text/plain": [
       "    Age             Current_Rank Best_Rank        Seasons Titles Weeks_at_No._1\n",
       "1   26 (25-04-1993) 378 (97)     363 (04-11-2019) NA      NA     NA            \n",
       "2   18 (22-12-2001) 326 (119)    316 (14-10-2019) NA      NA     NA            \n",
       "3   32 (03-11-1987) 178 (280)    44 (14-01-2013)  14      NA     NA            \n",
       "⋮   ⋮               ⋮            ⋮                ⋮       ⋮      ⋮             \n",
       "498 23 (14-03-1996) 495 (60)     342 (05-08-2019) NA      NA     NA            \n",
       "499 24 (17-05-1995) 419 (81)     419 (20-01-2020) NA      NA     NA            \n",
       "500 22 (26-03-1997) 451 (69)     408 (24-12-2018)  2      NA     NA            \n",
       "    Current_Elo_Rank Best_Elo_Rank   Prize_Money \n",
       "1   NA               NA              NA          \n",
       "2   NA               NA              $59,040     \n",
       "3   144 (1764)       60 (06-02-2012) US$3,261,567\n",
       "⋮   ⋮                ⋮               ⋮           \n",
       "498 NA               NA              NA          \n",
       "499 NA               NA              NA          \n",
       "500 NA               NA              $61,984     "
      ]
     },
     "metadata": {},
     "output_type": "display_data"
    }
   ],
   "source": [
    "url <- \"https://drive.google.com/uc?export=download&id=1_MECmUXZuuILYeEOfonSGqodW6qVdhsS\"\n",
    "\n",
    "player_stats <- read_csv(url)\n",
    "\n",
    "#Fixed titles and changed the types\n",
    "player_stats <- player_stats |>\n",
    "    rename_all(~ gsub(\" \", \"_\", .)) \n",
    "\n",
    "player_stats_tidy <- player_stats |> \n",
    "    select(Age, Current_Rank, Best_Rank, Seasons, Titles, Weeks_at_No._1, Current_Elo_Rank, Best_Elo_Rank, Prize_Money)\n",
    "\n",
    "player_stats_tidy"
   ]
  },
  {
   "cell_type": "code",
   "execution_count": 23,
   "id": "75b570d7-2638-4fb6-b119-127da40c222a",
   "metadata": {},
   "outputs": [],
   "source": [
    "#Harman\n",
    "\n",
    "# Age, Current_Rank, Best_Rank"
   ]
  },
  {
   "cell_type": "code",
   "execution_count": 24,
   "id": "3f4e9e53-ed4e-4075-85ae-8ed0a1a67e9b",
   "metadata": {},
   "outputs": [],
   "source": [
    "#Ramdeep\n",
    "\n",
    "# Seasons"
   ]
  },
  {
   "cell_type": "code",
   "execution_count": 25,
   "id": "35951ed7-005c-4e30-b575-295d6eb3a045",
   "metadata": {},
   "outputs": [],
   "source": [
    "#Nicolas\n",
    "\n",
    "# Current_Elo_Rank, Best_Elo_Rank"
   ]
  },
  {
   "cell_type": "code",
   "execution_count": 27,
   "id": "7c417c3f-453f-4363-8a89-452d82c24e32",
   "metadata": {},
   "outputs": [],
   "source": [
    "#Malkeet\n",
    "\n",
    "# Titles, Weeks_at_No._1"
   ]
  }
 ],
 "metadata": {
  "kernelspec": {
   "display_name": "R",
   "language": "R",
   "name": "ir"
  },
  "language_info": {
   "codemirror_mode": "r",
   "file_extension": ".r",
   "mimetype": "text/x-r-source",
   "name": "R",
   "pygments_lexer": "r",
   "version": "4.1.3"
  }
 },
 "nbformat": 4,
 "nbformat_minor": 5
}
