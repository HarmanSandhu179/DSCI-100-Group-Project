{
 "cells": [
  {
   "cell_type": "markdown",
   "id": "41521ae8-f2d6-4176-945b-f209f18ecaa5",
   "metadata": {
    "tags": []
   },
   "source": [
    "# DSCI 100 Group Project Report\n",
    "\n",
    "## Predicting Prize Money for Male Tennis Players"
   ]
  },
  {
   "cell_type": "code",
   "execution_count": 12,
   "id": "28fa9275-5311-4f8a-b4d3-0c3bdd3c3330",
   "metadata": {},
   "outputs": [],
   "source": [
    "library(tidyverse)\n",
    "library(tidymodels)\n",
    "library(readr)\n",
    "options(repr.matrix.max.rows = 6)"
   ]
  },
  {
   "cell_type": "code",
   "execution_count": 32,
   "id": "0ce351c0-a9cf-4dd8-b66f-9bda4a7e9eed",
   "metadata": {},
   "outputs": [
    {
     "name": "stderr",
     "output_type": "stream",
     "text": [
      "\u001b[1m\u001b[22mNew names:\n",
      "\u001b[36m•\u001b[39m `` -> `...1`\n",
      "\u001b[1mRows: \u001b[22m\u001b[34m500\u001b[39m \u001b[1mColumns: \u001b[22m\u001b[34m38\u001b[39m\n",
      "\u001b[36m──\u001b[39m \u001b[1mColumn specification\u001b[22m \u001b[36m────────────────────────────────────────────────────────\u001b[39m\n",
      "\u001b[1mDelimiter:\u001b[22m \",\"\n",
      "\u001b[31mchr\u001b[39m (25): Age, Country, Plays, Wikipedia, Current Rank, Best Rank, Name, Bac...\n",
      "\u001b[32mdbl\u001b[39m (13): ...1, Turned Pro, Seasons, Titles, Best Season, Retired, Masters, ...\n",
      "\n",
      "\u001b[36mℹ\u001b[39m Use `spec()` to retrieve the full column specification for this data.\n",
      "\u001b[36mℹ\u001b[39m Specify the column types or set `show_col_types = FALSE` to quiet this message.\n"
     ]
    },
    {
     "data": {
      "text/html": [
       "<table class=\"dataframe\">\n",
       "<caption>A tibble: 6 × 38</caption>\n",
       "<thead>\n",
       "\t<tr><th scope=col>...1</th><th scope=col>Age</th><th scope=col>Country</th><th scope=col>Plays</th><th scope=col>Wikipedia</th><th scope=col>Current_Rank</th><th scope=col>Best_Rank</th><th scope=col>Name</th><th scope=col>Backhand</th><th scope=col>Prize_Money</th><th scope=col>⋯</th><th scope=col>Facebook</th><th scope=col>Twitter</th><th scope=col>Nicknames</th><th scope=col>Grand_Slams</th><th scope=col>Davis_Cups</th><th scope=col>Web_Site</th><th scope=col>Team_Cups</th><th scope=col>Olympics</th><th scope=col>Weeks_at_No._1</th><th scope=col>Tour_Finals</th></tr>\n",
       "\t<tr><th scope=col>&lt;dbl&gt;</th><th scope=col>&lt;chr&gt;</th><th scope=col>&lt;chr&gt;</th><th scope=col>&lt;chr&gt;</th><th scope=col>&lt;chr&gt;</th><th scope=col>&lt;chr&gt;</th><th scope=col>&lt;chr&gt;</th><th scope=col>&lt;chr&gt;</th><th scope=col>&lt;chr&gt;</th><th scope=col>&lt;chr&gt;</th><th scope=col>⋯</th><th scope=col>&lt;chr&gt;</th><th scope=col>&lt;chr&gt;</th><th scope=col>&lt;chr&gt;</th><th scope=col>&lt;dbl&gt;</th><th scope=col>&lt;dbl&gt;</th><th scope=col>&lt;chr&gt;</th><th scope=col>&lt;dbl&gt;</th><th scope=col>&lt;dbl&gt;</th><th scope=col>&lt;dbl&gt;</th><th scope=col>&lt;dbl&gt;</th></tr>\n",
       "</thead>\n",
       "<tbody>\n",
       "\t<tr><td>0</td><td>26 (25-04-1993)</td><td>Brazil            </td><td>Right-handed</td><td>Wikipedia</td><td>378 (97) </td><td>363 (04-11-2019)</td><td>Oscar Jose Gutierrez</td><td>NA        </td><td>NA          </td><td>⋯</td><td>NA</td><td>NA</td><td>NA</td><td>NA</td><td>NA</td><td>NA</td><td>NA</td><td>NA</td><td>NA</td><td>NA</td></tr>\n",
       "\t<tr><td>1</td><td>18 (22-12-2001)</td><td>United Kingdom    </td><td>Left-handed </td><td>Wikipedia</td><td>326 (119)</td><td>316 (14-10-2019)</td><td>Jack Draper         </td><td>Two-handed</td><td>$59,040     </td><td>⋯</td><td>NA</td><td>NA</td><td>NA</td><td>NA</td><td>NA</td><td>NA</td><td>NA</td><td>NA</td><td>NA</td><td>NA</td></tr>\n",
       "\t<tr><td>2</td><td>32 (03-11-1987)</td><td>Slovakia          </td><td>Right-handed</td><td>Wikipedia</td><td>178 (280)</td><td>44 (14-01-2013) </td><td>Lukas Lacko         </td><td>Two-handed</td><td>US$3,261,567</td><td>⋯</td><td>NA</td><td>NA</td><td>NA</td><td>NA</td><td>NA</td><td>NA</td><td>NA</td><td>NA</td><td>NA</td><td>NA</td></tr>\n",
       "\t<tr><td>3</td><td>21 (29-05-1998)</td><td>Korea, Republic of</td><td>Right-handed</td><td>Wikipedia</td><td>236 (199)</td><td>130 (10-04-2017)</td><td>Duck Hee Lee        </td><td>Two-handed</td><td>$374,093    </td><td>⋯</td><td>NA</td><td>NA</td><td>NA</td><td>NA</td><td>NA</td><td>NA</td><td>NA</td><td>NA</td><td>NA</td><td>NA</td></tr>\n",
       "\t<tr><td>4</td><td>27 (21-10-1992)</td><td>Australia         </td><td>Right-handed</td><td>Wikipedia</td><td>183 (273)</td><td>17 (11-01-2016) </td><td>Bernard Tomic       </td><td>Two-handed</td><td>US$6,091,971</td><td>⋯</td><td>NA</td><td>NA</td><td>NA</td><td>NA</td><td>NA</td><td>NA</td><td>NA</td><td>NA</td><td>NA</td><td>NA</td></tr>\n",
       "\t<tr><td>5</td><td>22 (11-02-1997)</td><td>Poland            </td><td>Right-handed</td><td>Wikipedia</td><td>31 (1398)</td><td>31 (20-01-2020) </td><td>Hubert Hurkacz      </td><td>Two-handed</td><td>$1,517,157  </td><td>⋯</td><td>NA</td><td>NA</td><td>NA</td><td>NA</td><td>NA</td><td>NA</td><td>NA</td><td>NA</td><td>NA</td><td>NA</td></tr>\n",
       "</tbody>\n",
       "</table>\n"
      ],
      "text/latex": [
       "A tibble: 6 × 38\n",
       "\\begin{tabular}{lllllllllllllllllllll}\n",
       " ...1 & Age & Country & Plays & Wikipedia & Current\\_Rank & Best\\_Rank & Name & Backhand & Prize\\_Money & ⋯ & Facebook & Twitter & Nicknames & Grand\\_Slams & Davis\\_Cups & Web\\_Site & Team\\_Cups & Olympics & Weeks\\_at\\_No.\\_1 & Tour\\_Finals\\\\\n",
       " <dbl> & <chr> & <chr> & <chr> & <chr> & <chr> & <chr> & <chr> & <chr> & <chr> & ⋯ & <chr> & <chr> & <chr> & <dbl> & <dbl> & <chr> & <dbl> & <dbl> & <dbl> & <dbl>\\\\\n",
       "\\hline\n",
       "\t 0 & 26 (25-04-1993) & Brazil             & Right-handed & Wikipedia & 378 (97)  & 363 (04-11-2019) & Oscar Jose Gutierrez & NA         & NA           & ⋯ & NA & NA & NA & NA & NA & NA & NA & NA & NA & NA\\\\\n",
       "\t 1 & 18 (22-12-2001) & United Kingdom     & Left-handed  & Wikipedia & 326 (119) & 316 (14-10-2019) & Jack Draper          & Two-handed & \\$59,040      & ⋯ & NA & NA & NA & NA & NA & NA & NA & NA & NA & NA\\\\\n",
       "\t 2 & 32 (03-11-1987) & Slovakia           & Right-handed & Wikipedia & 178 (280) & 44 (14-01-2013)  & Lukas Lacko          & Two-handed & US\\$3,261,567 & ⋯ & NA & NA & NA & NA & NA & NA & NA & NA & NA & NA\\\\\n",
       "\t 3 & 21 (29-05-1998) & Korea, Republic of & Right-handed & Wikipedia & 236 (199) & 130 (10-04-2017) & Duck Hee Lee         & Two-handed & \\$374,093     & ⋯ & NA & NA & NA & NA & NA & NA & NA & NA & NA & NA\\\\\n",
       "\t 4 & 27 (21-10-1992) & Australia          & Right-handed & Wikipedia & 183 (273) & 17 (11-01-2016)  & Bernard Tomic        & Two-handed & US\\$6,091,971 & ⋯ & NA & NA & NA & NA & NA & NA & NA & NA & NA & NA\\\\\n",
       "\t 5 & 22 (11-02-1997) & Poland             & Right-handed & Wikipedia & 31 (1398) & 31 (20-01-2020)  & Hubert Hurkacz       & Two-handed & \\$1,517,157   & ⋯ & NA & NA & NA & NA & NA & NA & NA & NA & NA & NA\\\\\n",
       "\\end{tabular}\n"
      ],
      "text/markdown": [
       "\n",
       "A tibble: 6 × 38\n",
       "\n",
       "| ...1 &lt;dbl&gt; | Age &lt;chr&gt; | Country &lt;chr&gt; | Plays &lt;chr&gt; | Wikipedia &lt;chr&gt; | Current_Rank &lt;chr&gt; | Best_Rank &lt;chr&gt; | Name &lt;chr&gt; | Backhand &lt;chr&gt; | Prize_Money &lt;chr&gt; | ⋯ ⋯ | Facebook &lt;chr&gt; | Twitter &lt;chr&gt; | Nicknames &lt;chr&gt; | Grand_Slams &lt;dbl&gt; | Davis_Cups &lt;dbl&gt; | Web_Site &lt;chr&gt; | Team_Cups &lt;dbl&gt; | Olympics &lt;dbl&gt; | Weeks_at_No._1 &lt;dbl&gt; | Tour_Finals &lt;dbl&gt; |\n",
       "|---|---|---|---|---|---|---|---|---|---|---|---|---|---|---|---|---|---|---|---|---|\n",
       "| 0 | 26 (25-04-1993) | Brazil             | Right-handed | Wikipedia | 378 (97)  | 363 (04-11-2019) | Oscar Jose Gutierrez | NA         | NA           | ⋯ | NA | NA | NA | NA | NA | NA | NA | NA | NA | NA |\n",
       "| 1 | 18 (22-12-2001) | United Kingdom     | Left-handed  | Wikipedia | 326 (119) | 316 (14-10-2019) | Jack Draper          | Two-handed | $59,040      | ⋯ | NA | NA | NA | NA | NA | NA | NA | NA | NA | NA |\n",
       "| 2 | 32 (03-11-1987) | Slovakia           | Right-handed | Wikipedia | 178 (280) | 44 (14-01-2013)  | Lukas Lacko          | Two-handed | US$3,261,567 | ⋯ | NA | NA | NA | NA | NA | NA | NA | NA | NA | NA |\n",
       "| 3 | 21 (29-05-1998) | Korea, Republic of | Right-handed | Wikipedia | 236 (199) | 130 (10-04-2017) | Duck Hee Lee         | Two-handed | $374,093     | ⋯ | NA | NA | NA | NA | NA | NA | NA | NA | NA | NA |\n",
       "| 4 | 27 (21-10-1992) | Australia          | Right-handed | Wikipedia | 183 (273) | 17 (11-01-2016)  | Bernard Tomic        | Two-handed | US$6,091,971 | ⋯ | NA | NA | NA | NA | NA | NA | NA | NA | NA | NA |\n",
       "| 5 | 22 (11-02-1997) | Poland             | Right-handed | Wikipedia | 31 (1398) | 31 (20-01-2020)  | Hubert Hurkacz       | Two-handed | $1,517,157   | ⋯ | NA | NA | NA | NA | NA | NA | NA | NA | NA | NA |\n",
       "\n"
      ],
      "text/plain": [
       "  ...1 Age             Country            Plays        Wikipedia Current_Rank\n",
       "1 0    26 (25-04-1993) Brazil             Right-handed Wikipedia 378 (97)    \n",
       "2 1    18 (22-12-2001) United Kingdom     Left-handed  Wikipedia 326 (119)   \n",
       "3 2    32 (03-11-1987) Slovakia           Right-handed Wikipedia 178 (280)   \n",
       "4 3    21 (29-05-1998) Korea, Republic of Right-handed Wikipedia 236 (199)   \n",
       "5 4    27 (21-10-1992) Australia          Right-handed Wikipedia 183 (273)   \n",
       "6 5    22 (11-02-1997) Poland             Right-handed Wikipedia 31 (1398)   \n",
       "  Best_Rank        Name                 Backhand   Prize_Money  ⋯ Facebook\n",
       "1 363 (04-11-2019) Oscar Jose Gutierrez NA         NA           ⋯ NA      \n",
       "2 316 (14-10-2019) Jack Draper          Two-handed $59,040      ⋯ NA      \n",
       "3 44 (14-01-2013)  Lukas Lacko          Two-handed US$3,261,567 ⋯ NA      \n",
       "4 130 (10-04-2017) Duck Hee Lee         Two-handed $374,093     ⋯ NA      \n",
       "5 17 (11-01-2016)  Bernard Tomic        Two-handed US$6,091,971 ⋯ NA      \n",
       "6 31 (20-01-2020)  Hubert Hurkacz       Two-handed $1,517,157   ⋯ NA      \n",
       "  Twitter Nicknames Grand_Slams Davis_Cups Web_Site Team_Cups Olympics\n",
       "1 NA      NA        NA          NA         NA       NA        NA      \n",
       "2 NA      NA        NA          NA         NA       NA        NA      \n",
       "3 NA      NA        NA          NA         NA       NA        NA      \n",
       "4 NA      NA        NA          NA         NA       NA        NA      \n",
       "5 NA      NA        NA          NA         NA       NA        NA      \n",
       "6 NA      NA        NA          NA         NA       NA        NA      \n",
       "  Weeks_at_No._1 Tour_Finals\n",
       "1 NA             NA         \n",
       "2 NA             NA         \n",
       "3 NA             NA         \n",
       "4 NA             NA         \n",
       "5 NA             NA         \n",
       "6 NA             NA         "
      ]
     },
     "metadata": {},
     "output_type": "display_data"
    }
   ],
   "source": [
    "url <- \"https://drive.google.com/uc?export=download&id=1_MECmUXZuuILYeEOfonSGqodW6qVdhsS\"\n",
    "\n",
    "player_stats <- read_csv(url)\n",
    "\n",
    "#Fixed titles and changed the types\n",
    "player_stats <- player_stats |>\n",
    "    rename_all(~ gsub(\" \", \"_\", .)) \n",
    "\n",
    "head(player_stats)"
   ]
  },
  {
   "cell_type": "code",
   "execution_count": 33,
   "id": "70f95bef-b273-412a-8cb9-20553984ec5c",
   "metadata": {},
   "outputs": [
    {
     "data": {
      "text/html": [
       "<table class=\"dataframe\">\n",
       "<caption>A tibble: 4 × 9</caption>\n",
       "<thead>\n",
       "\t<tr><th scope=col>Age</th><th scope=col>Current_Rank</th><th scope=col>Best_Rank</th><th scope=col>Seasons</th><th scope=col>Titles</th><th scope=col>Weeks_at_No._1</th><th scope=col>Current_Elo_Rank</th><th scope=col>Best_Elo_Rank</th><th scope=col>Prize_Money</th></tr>\n",
       "\t<tr><th scope=col>&lt;chr&gt;</th><th scope=col>&lt;chr&gt;</th><th scope=col>&lt;chr&gt;</th><th scope=col>&lt;dbl&gt;</th><th scope=col>&lt;dbl&gt;</th><th scope=col>&lt;dbl&gt;</th><th scope=col>&lt;chr&gt;</th><th scope=col>&lt;chr&gt;</th><th scope=col>&lt;chr&gt;</th></tr>\n",
       "</thead>\n",
       "<tbody>\n",
       "\t<tr><td>33 (03-06-1986)</td><td>1 (10235)</td><td>1 (18-08-2008)</td><td>19</td><td> 84</td><td>208</td><td>1 (2406)</td><td>1 (16-06-2008)</td><td>US$119,601,561                                </td></tr>\n",
       "\t<tr><td>32 (22-05-1987)</td><td>2 (9720) </td><td>1 (04-07-2011)</td><td>17</td><td> 77</td><td>275</td><td>2 (2390)</td><td>1 (21-03-2011)</td><td>US$ 139,144,944 All-time leader in earnings   </td></tr>\n",
       "\t<tr><td>32 (15-05-1987)</td><td>128 (422)</td><td>1 (07-11-2016)</td><td>15</td><td> 46</td><td> 41</td><td>7 (2185)</td><td>2 (19-04-2009)</td><td>US$ 61,544,007 4th all-time leader in earnings</td></tr>\n",
       "\t<tr><td>38 (08-08-1981)</td><td>3 (6590) </td><td>1 (02-02-2004)</td><td>22</td><td>103</td><td>310</td><td>3 (2328)</td><td>1 (11-08-2003)</td><td>$ 129,231,891 2nd all-time leader in earnings </td></tr>\n",
       "</tbody>\n",
       "</table>\n"
      ],
      "text/latex": [
       "A tibble: 4 × 9\n",
       "\\begin{tabular}{lllllllll}\n",
       " Age & Current\\_Rank & Best\\_Rank & Seasons & Titles & Weeks\\_at\\_No.\\_1 & Current\\_Elo\\_Rank & Best\\_Elo\\_Rank & Prize\\_Money\\\\\n",
       " <chr> & <chr> & <chr> & <dbl> & <dbl> & <dbl> & <chr> & <chr> & <chr>\\\\\n",
       "\\hline\n",
       "\t 33 (03-06-1986) & 1 (10235) & 1 (18-08-2008) & 19 &  84 & 208 & 1 (2406) & 1 (16-06-2008) & US\\$119,601,561                                \\\\\n",
       "\t 32 (22-05-1987) & 2 (9720)  & 1 (04-07-2011) & 17 &  77 & 275 & 2 (2390) & 1 (21-03-2011) & US\\$ 139,144,944 All-time leader in earnings   \\\\\n",
       "\t 32 (15-05-1987) & 128 (422) & 1 (07-11-2016) & 15 &  46 &  41 & 7 (2185) & 2 (19-04-2009) & US\\$ 61,544,007 4th all-time leader in earnings\\\\\n",
       "\t 38 (08-08-1981) & 3 (6590)  & 1 (02-02-2004) & 22 & 103 & 310 & 3 (2328) & 1 (11-08-2003) & \\$ 129,231,891 2nd all-time leader in earnings \\\\\n",
       "\\end{tabular}\n"
      ],
      "text/markdown": [
       "\n",
       "A tibble: 4 × 9\n",
       "\n",
       "| Age &lt;chr&gt; | Current_Rank &lt;chr&gt; | Best_Rank &lt;chr&gt; | Seasons &lt;dbl&gt; | Titles &lt;dbl&gt; | Weeks_at_No._1 &lt;dbl&gt; | Current_Elo_Rank &lt;chr&gt; | Best_Elo_Rank &lt;chr&gt; | Prize_Money &lt;chr&gt; |\n",
       "|---|---|---|---|---|---|---|---|---|\n",
       "| 33 (03-06-1986) | 1 (10235) | 1 (18-08-2008) | 19 |  84 | 208 | 1 (2406) | 1 (16-06-2008) | US$119,601,561                                 |\n",
       "| 32 (22-05-1987) | 2 (9720)  | 1 (04-07-2011) | 17 |  77 | 275 | 2 (2390) | 1 (21-03-2011) | US$ 139,144,944 All-time leader in earnings    |\n",
       "| 32 (15-05-1987) | 128 (422) | 1 (07-11-2016) | 15 |  46 |  41 | 7 (2185) | 2 (19-04-2009) | US$ 61,544,007 4th all-time leader in earnings |\n",
       "| 38 (08-08-1981) | 3 (6590)  | 1 (02-02-2004) | 22 | 103 | 310 | 3 (2328) | 1 (11-08-2003) | $ 129,231,891 2nd all-time leader in earnings  |\n",
       "\n"
      ],
      "text/plain": [
       "  Age             Current_Rank Best_Rank      Seasons Titles Weeks_at_No._1\n",
       "1 33 (03-06-1986) 1 (10235)    1 (18-08-2008) 19       84    208           \n",
       "2 32 (22-05-1987) 2 (9720)     1 (04-07-2011) 17       77    275           \n",
       "3 32 (15-05-1987) 128 (422)    1 (07-11-2016) 15       46     41           \n",
       "4 38 (08-08-1981) 3 (6590)     1 (02-02-2004) 22      103    310           \n",
       "  Current_Elo_Rank Best_Elo_Rank \n",
       "1 1 (2406)         1 (16-06-2008)\n",
       "2 2 (2390)         1 (21-03-2011)\n",
       "3 7 (2185)         2 (19-04-2009)\n",
       "4 3 (2328)         1 (11-08-2003)\n",
       "  Prize_Money                                   \n",
       "1 US$119,601,561                                \n",
       "2 US$ 139,144,944 All-time leader in earnings   \n",
       "3 US$ 61,544,007 4th all-time leader in earnings\n",
       "4 $ 129,231,891 2nd all-time leader in earnings "
      ]
     },
     "metadata": {},
     "output_type": "display_data"
    }
   ],
   "source": [
    "player_stats_weeks_at_1 <- player_stats |> \n",
    "    select(Age, Current_Rank, Best_Rank, Seasons, Titles, Weeks_at_No._1, Current_Elo_Rank, Best_Elo_Rank, Prize_Money) |>\n",
    "    filter(!is.na(Weeks_at_No._1))\n",
    "\n",
    "player_stats_weeks_at_1"
   ]
  },
  {
   "cell_type": "markdown",
   "id": "600ccced-0d7e-4f03-80e6-de5c24757d43",
   "metadata": {},
   "source": [
    "Can't use Weeks_at_No._1 :("
   ]
  },
  {
   "cell_type": "code",
   "execution_count": 23,
   "id": "75b570d7-2638-4fb6-b119-127da40c222a",
   "metadata": {},
   "outputs": [],
   "source": [
    "#Harman\n",
    "\n",
    "# Age, Current_Rank, Best_Rank"
   ]
  },
  {
   "cell_type": "code",
   "execution_count": 24,
   "id": "3f4e9e53-ed4e-4075-85ae-8ed0a1a67e9b",
   "metadata": {},
   "outputs": [],
   "source": [
    "#Ramdeep\n",
    "\n",
    "# Seasons"
   ]
  },
  {
   "cell_type": "code",
   "execution_count": 25,
   "id": "35951ed7-005c-4e30-b575-295d6eb3a045",
   "metadata": {},
   "outputs": [],
   "source": [
    "#Nicolas\n",
    "\n",
    "# Current_Elo_Rank, Best_Elo_Rank"
   ]
  },
  {
   "cell_type": "code",
   "execution_count": 27,
   "id": "7c417c3f-453f-4363-8a89-452d82c24e32",
   "metadata": {},
   "outputs": [],
   "source": [
    "#Malkeet\n",
    "\n",
    "# Titles, Weeks_at_No._1"
   ]
  }
 ],
 "metadata": {
  "kernelspec": {
   "display_name": "R",
   "language": "R",
   "name": "ir"
  },
  "language_info": {
   "codemirror_mode": "r",
   "file_extension": ".r",
   "mimetype": "text/x-r-source",
   "name": "R",
   "pygments_lexer": "r",
   "version": "4.1.3"
  }
 },
 "nbformat": 4,
 "nbformat_minor": 5
}
